{
 "cells": [
  {
   "cell_type": "code",
   "execution_count": 44,
   "id": "97cc4218-1e90-46f4-9e59-3d6a351a61d6",
   "metadata": {},
   "outputs": [],
   "source": [
    "import h5py\n",
    "import pandas as pd\n",
    "import numpy as np\n",
    "import matplotlib.pyplot as plt\n",
    "from PIL import Image\n",
    "\n",
    "import os"
   ]
  },
  {
   "cell_type": "code",
   "execution_count": 11,
   "id": "52d7dde4-ba73-4c76-99ed-cadde59fb9a5",
   "metadata": {},
   "outputs": [
    {
     "data": {
      "text/plain": [
       "<KeysViewHDF5 ['images', 'indx_train', 'indx_valid', 'labels', 'types']>"
      ]
     },
     "execution_count": 11,
     "metadata": {},
     "output_type": "execute_result"
    }
   ],
   "source": [
    "file_path = r\"C:\\Users\\msi\\Desktop\\workspace\\001_현대자동차\\improved_CcGAN\\RC-49\\RC-49_128x128\\CcGAN-improved\\scripts\\datasets\\RC-49_128x128_downscale.h5\"\n",
    "\n",
    "hf = h5py.File(file_path, \"r\")\n",
    "hf.keys()"
   ]
  },
  {
   "cell_type": "code",
   "execution_count": 29,
   "id": "3d0361c1-673e-43fc-b86b-944d0e50c500",
   "metadata": {},
   "outputs": [],
   "source": [
    "images_original = hf[\"images\"][:]\n",
    "labels_original = hf[\"labels\"][:]\n",
    "types_original = hf[\"types\"][:]\n",
    "\n",
    "types_original = types_original[:, None]"
   ]
  },
  {
   "cell_type": "code",
   "execution_count": 30,
   "id": "291a0b8c-b373-49c6-a327-732ac071c02f",
   "metadata": {},
   "outputs": [
    {
     "data": {
      "text/plain": [
       "(264894, 3)"
      ]
     },
     "execution_count": 30,
     "metadata": {},
     "output_type": "execute_result"
    }
   ],
   "source": [
    "labels_new = np.concatenate([labels_original, types_original], axis=-1)\n",
    "labels_new.shape"
   ]
  },
  {
   "cell_type": "code",
   "execution_count": 32,
   "id": "a7b34dd6-800e-48d9-bd8e-5fd17490b386",
   "metadata": {},
   "outputs": [],
   "source": [
    "hf.close()"
   ]
  },
  {
   "cell_type": "code",
   "execution_count": 53,
   "id": "81746202-f4aa-43ac-897e-82f3a60ed0a3",
   "metadata": {},
   "outputs": [
    {
     "data": {
      "text/html": [
       "<div>\n",
       "<style scoped>\n",
       "    .dataframe tbody tr th:only-of-type {\n",
       "        vertical-align: middle;\n",
       "    }\n",
       "\n",
       "    .dataframe tbody tr th {\n",
       "        vertical-align: top;\n",
       "    }\n",
       "\n",
       "    .dataframe thead th {\n",
       "        text-align: right;\n",
       "    }\n",
       "</style>\n",
       "<table border=\"1\" class=\"dataframe\">\n",
       "  <thead>\n",
       "    <tr style=\"text-align: right;\">\n",
       "      <th></th>\n",
       "      <th>angle</th>\n",
       "      <th>ratio</th>\n",
       "      <th>type</th>\n",
       "    </tr>\n",
       "  </thead>\n",
       "  <tbody>\n",
       "    <tr>\n",
       "      <th>0</th>\n",
       "      <td>0.0</td>\n",
       "      <td>1.0</td>\n",
       "      <td>0.0</td>\n",
       "    </tr>\n",
       "    <tr>\n",
       "      <th>1</th>\n",
       "      <td>0.0</td>\n",
       "      <td>1.0</td>\n",
       "      <td>1.0</td>\n",
       "    </tr>\n",
       "    <tr>\n",
       "      <th>2</th>\n",
       "      <td>0.0</td>\n",
       "      <td>1.0</td>\n",
       "      <td>2.0</td>\n",
       "    </tr>\n",
       "    <tr>\n",
       "      <th>3</th>\n",
       "      <td>0.0</td>\n",
       "      <td>1.0</td>\n",
       "      <td>3.0</td>\n",
       "    </tr>\n",
       "    <tr>\n",
       "      <th>4</th>\n",
       "      <td>0.0</td>\n",
       "      <td>1.0</td>\n",
       "      <td>4.0</td>\n",
       "    </tr>\n",
       "  </tbody>\n",
       "</table>\n",
       "</div>"
      ],
      "text/plain": [
       "   angle  ratio  type\n",
       "0    0.0    1.0   0.0\n",
       "1    0.0    1.0   1.0\n",
       "2    0.0    1.0   2.0\n",
       "3    0.0    1.0   3.0\n",
       "4    0.0    1.0   4.0"
      ]
     },
     "execution_count": 53,
     "metadata": {},
     "output_type": "execute_result"
    }
   ],
   "source": [
    "df = pd.DataFrame(labels_new, columns=[\"angle\", \"ratio\", \"type\"])\n",
    "df.head()"
   ]
  },
  {
   "cell_type": "code",
   "execution_count": 54,
   "id": "60f62a92-a3e6-43ad-9a28-a5c99d100d52",
   "metadata": {},
   "outputs": [],
   "source": [
    "num_images = images_original.shape[0]\n",
    "\n",
    "s = pd.Series(np.arange(num_images))\n",
    "s = s.map(lambda x: f\"{x+1}\".zfill(len(str(num_images)))) + \".png\""
   ]
  },
  {
   "cell_type": "code",
   "execution_count": 55,
   "id": "3a946651-84f2-4fd0-92e8-519de935072f",
   "metadata": {},
   "outputs": [
    {
     "data": {
      "text/html": [
       "<div>\n",
       "<style scoped>\n",
       "    .dataframe tbody tr th:only-of-type {\n",
       "        vertical-align: middle;\n",
       "    }\n",
       "\n",
       "    .dataframe tbody tr th {\n",
       "        vertical-align: top;\n",
       "    }\n",
       "\n",
       "    .dataframe thead th {\n",
       "        text-align: right;\n",
       "    }\n",
       "</style>\n",
       "<table border=\"1\" class=\"dataframe\">\n",
       "  <thead>\n",
       "    <tr style=\"text-align: right;\">\n",
       "      <th></th>\n",
       "      <th>file_name</th>\n",
       "      <th>angle</th>\n",
       "      <th>ratio</th>\n",
       "      <th>type</th>\n",
       "    </tr>\n",
       "  </thead>\n",
       "  <tbody>\n",
       "    <tr>\n",
       "      <th>0</th>\n",
       "      <td>000001.png</td>\n",
       "      <td>0.0</td>\n",
       "      <td>1.0</td>\n",
       "      <td>0.0</td>\n",
       "    </tr>\n",
       "    <tr>\n",
       "      <th>1</th>\n",
       "      <td>000002.png</td>\n",
       "      <td>0.0</td>\n",
       "      <td>1.0</td>\n",
       "      <td>1.0</td>\n",
       "    </tr>\n",
       "    <tr>\n",
       "      <th>2</th>\n",
       "      <td>000003.png</td>\n",
       "      <td>0.0</td>\n",
       "      <td>1.0</td>\n",
       "      <td>2.0</td>\n",
       "    </tr>\n",
       "    <tr>\n",
       "      <th>3</th>\n",
       "      <td>000004.png</td>\n",
       "      <td>0.0</td>\n",
       "      <td>1.0</td>\n",
       "      <td>3.0</td>\n",
       "    </tr>\n",
       "    <tr>\n",
       "      <th>4</th>\n",
       "      <td>000005.png</td>\n",
       "      <td>0.0</td>\n",
       "      <td>1.0</td>\n",
       "      <td>4.0</td>\n",
       "    </tr>\n",
       "  </tbody>\n",
       "</table>\n",
       "</div>"
      ],
      "text/plain": [
       "    file_name  angle  ratio  type\n",
       "0  000001.png    0.0    1.0   0.0\n",
       "1  000002.png    0.0    1.0   1.0\n",
       "2  000003.png    0.0    1.0   2.0\n",
       "3  000004.png    0.0    1.0   3.0\n",
       "4  000005.png    0.0    1.0   4.0"
      ]
     },
     "execution_count": 55,
     "metadata": {},
     "output_type": "execute_result"
    }
   ],
   "source": [
    "df = pd.concat([s, df], axis=1)\n",
    "df.columns = [\"file_name\"] + list(df.columns[-3:])\n",
    "df.head()"
   ]
  },
  {
   "cell_type": "code",
   "execution_count": 43,
   "id": "a2491629-c6dc-4082-8a17-ca37077de749",
   "metadata": {},
   "outputs": [
    {
     "data": {
      "image/png": "[encoded data removed]",
      "text/plain": [
       "<Figure size 640x480 with 1 Axes>"
      ]
     },
     "metadata": {},
     "output_type": "display_data"
    }
   ],
   "source": [
    "plt.imshow(np.transpose(images_original[0], (1,2,0)))\n",
    "plt.show()"
   ]
  },
  {
   "cell_type": "code",
   "execution_count": 45,
   "id": "53314df6-1063-4a7c-b919-6e7a253580bd",
   "metadata": {},
   "outputs": [],
   "source": [
    "folder_name = r\"./RC-49_128x128_diffusion\"\n",
    "os.makedirs(folder_name, exist_ok=True)\n",
    "for i in range(num_images):\n",
    "    name_to_save = f\"{i+1}\".zfill(len(str(num_images))) + \".png\"\n",
    "    img = Image.fromarray(np.transpose(images_original[i], (1,2,0)))\n",
    "    each_path = os.path.join(folder_name, name_to_save)\n",
    "    img.save(each_path)"
   ]
  },
  {
   "cell_type": "code",
   "execution_count": 56,
   "id": "480f10fa-3bd3-43ff-9ed3-ecc5da3e220d",
   "metadata": {},
   "outputs": [],
   "source": [
    "csv_name = \"metadata.csv\"\n",
    "df.to_csv(os.path.join(folder_name, csv_name), header=True, index=False)"
   ]
  },
  {
   "cell_type": "code",
   "execution_count": null,
   "id": "fb9b1a1e-df29-4989-9c26-823c06f303ef",
   "metadata": {},
   "outputs": [],
   "source": []
  }
 ],
 "metadata": {
  "kernelspec": {
   "display_name": "Python 3 (ipykernel)",
   "language": "python",
   "name": "python3"
  },
  "language_info": {
   "codemirror_mode": {
    "name": "ipython",
    "version": 3
   },
   "file_extension": ".py",
   "mimetype": "text/x-python",
   "name": "python",
   "nbconvert_exporter": "python",
   "pygments_lexer": "ipython3",
   "version": "3.12.2"
  }
 },
 "nbformat": 4,
 "nbformat_minor": 5
}
