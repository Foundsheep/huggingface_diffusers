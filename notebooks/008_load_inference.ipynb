{
 "cells": [
  {
   "cell_type": "code",
   "execution_count": 2,
   "id": "43b278ce-8fff-492e-86c8-96d889be1069",
   "metadata": {},
   "outputs": [],
   "source": [
    "import os\n",
    "import sys\n",
    "\n",
    "# 이전에 pip uninstall diffusers 를 통해\n",
    "# 기존의 diffusers 패키지 삭제함\n",
    "folder = 'C:\\\\Users\\\\msi\\\\Desktop\\\\workspace\\\\001_현대자동차\\\\03_diffusion\\\\diffusers\\\\src'\n",
    "\n",
    "if os.path.exists(folder) and folder not in sys.path:\n",
    "    sys.path.append(folder)\n",
    "    sys.path"
   ]
  },
  {
   "cell_type": "code",
   "execution_count": 11,
   "id": "ae72010f-2bc9-4cdc-a5a8-1fb899c8e448",
   "metadata": {},
   "outputs": [
    {
     "data": {
      "application/vnd.jupyter.widget-view+json": {
       "model_id": "e161e7eed03641a3ba4dfc8f8ffa0192",
       "version_major": 2,
       "version_minor": 0
      },
      "text/plain": [
       "Loading pipeline components...:   0%|          | 0/2 [00:00<?, ?it/s]"
      ]
     },
     "metadata": {},
     "output_type": "display_data"
    },
    {
     "data": {
      "application/vnd.jupyter.widget-view+json": {
       "model_id": "7c08b460199e42939879c028816bd99f",
       "version_major": 2,
       "version_minor": 0
      },
      "text/plain": [
       "config.json:   0%|          | 0.00/4.52k [00:00<?, ?B/s]"
      ]
     },
     "metadata": {},
     "output_type": "display_data"
    },
    {
     "name": "stderr",
     "output_type": "stream",
     "text": [
      "C:\\Users\\msi\\anaconda3\\envs\\hf_diffusers\\Lib\\site-packages\\huggingface_hub\\file_download.py:148: UserWarning: `huggingface_hub` cache-system uses symlinks by default to efficiently store duplicated files but your machine does not support them in C:\\Users\\msi\\.cache\\huggingface\\hub\\models--openai--clip-vit-large-patch14. Caching files will still work but in a degraded version that might require more space on your disk. This warning can be disabled by setting the `HF_HUB_DISABLE_SYMLINKS_WARNING` environment variable. For more details, see https://huggingface.co/docs/huggingface_hub/how-to-cache#limitations.\n",
      "To support symlinks on Windows, you either need to activate Developer Mode or to run Python as an administrator. In order to see activate developer mode, see this article: https://docs.microsoft.com/en-us/windows/apps/get-started/enable-your-device-for-development\n",
      "  warnings.warn(message)\n"
     ]
    },
    {
     "data": {
      "application/vnd.jupyter.widget-view+json": {
       "model_id": "c1e2a7239222408cbe794a8e2215c342",
       "version_major": 2,
       "version_minor": 0
      },
      "text/plain": [
       "tokenizer_config.json:   0%|          | 0.00/905 [00:00<?, ?B/s]"
      ]
     },
     "metadata": {},
     "output_type": "display_data"
    },
    {
     "data": {
      "application/vnd.jupyter.widget-view+json": {
       "model_id": "32c43f5861504770b7ea43d7be956563",
       "version_major": 2,
       "version_minor": 0
      },
      "text/plain": [
       "vocab.json:   0%|          | 0.00/961k [00:00<?, ?B/s]"
      ]
     },
     "metadata": {},
     "output_type": "display_data"
    },
    {
     "data": {
      "application/vnd.jupyter.widget-view+json": {
       "model_id": "eb5b4c393f654394b282d2bf6f44c6ce",
       "version_major": 2,
       "version_minor": 0
      },
      "text/plain": [
       "merges.txt:   0%|          | 0.00/525k [00:00<?, ?B/s]"
      ]
     },
     "metadata": {},
     "output_type": "display_data"
    },
    {
     "data": {
      "application/vnd.jupyter.widget-view+json": {
       "model_id": "033a8a64a49f465b9985e5163c3c4d2a",
       "version_major": 2,
       "version_minor": 0
      },
      "text/plain": [
       "special_tokens_map.json:   0%|          | 0.00/389 [00:00<?, ?B/s]"
      ]
     },
     "metadata": {},
     "output_type": "display_data"
    },
    {
     "data": {
      "application/vnd.jupyter.widget-view+json": {
       "model_id": "83c123958f8a4f19be40cb8e2eb495bf",
       "version_major": 2,
       "version_minor": 0
      },
      "text/plain": [
       "tokenizer.json:   0%|          | 0.00/2.22M [00:00<?, ?B/s]"
      ]
     },
     "metadata": {},
     "output_type": "display_data"
    },
    {
     "ename": "KeyError",
     "evalue": "0",
     "output_type": "error",
     "traceback": [
      "\u001b[1;31m---------------------------------------------------------------------------\u001b[0m",
      "\u001b[1;31mKeyError\u001b[0m                                  Traceback (most recent call last)",
      "Cell \u001b[1;32mIn[11], line 8\u001b[0m\n\u001b[0;32m      5\u001b[0m stable_diffusion \u001b[38;5;241m=\u001b[39m DiffusionPipeline\u001b[38;5;241m.\u001b[39mfrom_pretrained(output_dir, scheduler\u001b[38;5;241m=\u001b[39mscheduler, use_safetensors\u001b[38;5;241m=\u001b[39m\u001b[38;5;28;01mTrue\u001b[39;00m)\n\u001b[0;32m      7\u001b[0m file_path \u001b[38;5;241m=\u001b[39m os\u001b[38;5;241m.\u001b[39mpath\u001b[38;5;241m.\u001b[39mjoin(output_dir, \u001b[38;5;124m\"\u001b[39m\u001b[38;5;124munet\u001b[39m\u001b[38;5;124m\"\u001b[39m, \u001b[38;5;124m\"\u001b[39m\u001b[38;5;124mdiffusion_pytorch_model.safetensors\u001b[39m\u001b[38;5;124m\"\u001b[39m)\n\u001b[1;32m----> 8\u001b[0m pipeline \u001b[38;5;241m=\u001b[39m \u001b[43mStableDiffusionPipeline\u001b[49m\u001b[38;5;241;43m.\u001b[39;49m\u001b[43mfrom_single_file\u001b[49m\u001b[43m(\u001b[49m\u001b[43mfile_path\u001b[49m\u001b[43m)\u001b[49m\n",
      "File \u001b[1;32m~\\anaconda3\\envs\\hf_diffusers\\Lib\\site-packages\\huggingface_hub\\utils\\_validators.py:119\u001b[0m, in \u001b[0;36mvalidate_hf_hub_args.<locals>._inner_fn\u001b[1;34m(*args, **kwargs)\u001b[0m\n\u001b[0;32m    116\u001b[0m \u001b[38;5;28;01mif\u001b[39;00m check_use_auth_token:\n\u001b[0;32m    117\u001b[0m     kwargs \u001b[38;5;241m=\u001b[39m smoothly_deprecate_use_auth_token(fn_name\u001b[38;5;241m=\u001b[39mfn\u001b[38;5;241m.\u001b[39m\u001b[38;5;18m__name__\u001b[39m, has_token\u001b[38;5;241m=\u001b[39mhas_token, kwargs\u001b[38;5;241m=\u001b[39mkwargs)\n\u001b[1;32m--> 119\u001b[0m \u001b[38;5;28;01mreturn\u001b[39;00m \u001b[43mfn\u001b[49m\u001b[43m(\u001b[49m\u001b[38;5;241;43m*\u001b[39;49m\u001b[43margs\u001b[49m\u001b[43m,\u001b[49m\u001b[43m \u001b[49m\u001b[38;5;241;43m*\u001b[39;49m\u001b[38;5;241;43m*\u001b[39;49m\u001b[43mkwargs\u001b[49m\u001b[43m)\u001b[49m\n",
      "File \u001b[1;32m~\\Desktop\\workspace\\001_현대자동차\\03_diffusion\\diffusers\\src\\diffusers\\loaders\\single_file.py:289\u001b[0m, in \u001b[0;36mFromSingleFileMixin.from_single_file\u001b[1;34m(cls, pretrained_model_link_or_path, **kwargs)\u001b[0m\n\u001b[0;32m    287\u001b[0m     init_kwargs[name] \u001b[38;5;241m=\u001b[39m passed_class_obj[name]\n\u001b[0;32m    288\u001b[0m \u001b[38;5;28;01melse\u001b[39;00m:\n\u001b[1;32m--> 289\u001b[0m     components \u001b[38;5;241m=\u001b[39m \u001b[43mbuild_sub_model_components\u001b[49m\u001b[43m(\u001b[49m\n\u001b[0;32m    290\u001b[0m \u001b[43m        \u001b[49m\u001b[43minit_kwargs\u001b[49m\u001b[43m,\u001b[49m\n\u001b[0;32m    291\u001b[0m \u001b[43m        \u001b[49m\u001b[43mclass_name\u001b[49m\u001b[43m,\u001b[49m\n\u001b[0;32m    292\u001b[0m \u001b[43m        \u001b[49m\u001b[43mname\u001b[49m\u001b[43m,\u001b[49m\n\u001b[0;32m    293\u001b[0m \u001b[43m        \u001b[49m\u001b[43moriginal_config\u001b[49m\u001b[43m,\u001b[49m\n\u001b[0;32m    294\u001b[0m \u001b[43m        \u001b[49m\u001b[43mcheckpoint\u001b[49m\u001b[43m,\u001b[49m\n\u001b[0;32m    295\u001b[0m \u001b[43m        \u001b[49m\u001b[43mmodel_type\u001b[49m\u001b[38;5;241;43m=\u001b[39;49m\u001b[43mmodel_type\u001b[49m\u001b[43m,\u001b[49m\n\u001b[0;32m    296\u001b[0m \u001b[43m        \u001b[49m\u001b[43mimage_size\u001b[49m\u001b[38;5;241;43m=\u001b[39;49m\u001b[43mimage_size\u001b[49m\u001b[43m,\u001b[49m\n\u001b[0;32m    297\u001b[0m \u001b[43m        \u001b[49m\u001b[43mload_safety_checker\u001b[49m\u001b[38;5;241;43m=\u001b[39;49m\u001b[43mload_safety_checker\u001b[49m\u001b[43m,\u001b[49m\n\u001b[0;32m    298\u001b[0m \u001b[43m        \u001b[49m\u001b[43mlocal_files_only\u001b[49m\u001b[38;5;241;43m=\u001b[39;49m\u001b[43mlocal_files_only\u001b[49m\u001b[43m,\u001b[49m\n\u001b[0;32m    299\u001b[0m \u001b[43m        \u001b[49m\u001b[43mtorch_dtype\u001b[49m\u001b[38;5;241;43m=\u001b[39;49m\u001b[43mtorch_dtype\u001b[49m\u001b[43m,\u001b[49m\n\u001b[0;32m    300\u001b[0m \u001b[43m        \u001b[49m\u001b[38;5;241;43m*\u001b[39;49m\u001b[38;5;241;43m*\u001b[39;49m\u001b[43mkwargs\u001b[49m\u001b[43m,\u001b[49m\n\u001b[0;32m    301\u001b[0m \u001b[43m    \u001b[49m\u001b[43m)\u001b[49m\n\u001b[0;32m    302\u001b[0m     \u001b[38;5;28;01mif\u001b[39;00m \u001b[38;5;129;01mnot\u001b[39;00m components:\n\u001b[0;32m    303\u001b[0m         \u001b[38;5;28;01mcontinue\u001b[39;00m\n",
      "File \u001b[1;32m~\\Desktop\\workspace\\001_현대자동차\\03_diffusion\\diffusers\\src\\diffusers\\loaders\\single_file.py:61\u001b[0m, in \u001b[0;36mbuild_sub_model_components\u001b[1;34m(pipeline_components, pipeline_class_name, component_name, original_config, checkpoint, local_files_only, load_safety_checker, model_type, image_size, torch_dtype, **kwargs)\u001b[0m\n\u001b[0;32m     58\u001b[0m     num_in_channels \u001b[38;5;241m=\u001b[39m kwargs\u001b[38;5;241m.\u001b[39mpop(\u001b[38;5;124m\"\u001b[39m\u001b[38;5;124mnum_in_channels\u001b[39m\u001b[38;5;124m\"\u001b[39m, \u001b[38;5;28;01mNone\u001b[39;00m)\n\u001b[0;32m     59\u001b[0m     upcast_attention \u001b[38;5;241m=\u001b[39m kwargs\u001b[38;5;241m.\u001b[39mpop(\u001b[38;5;124m\"\u001b[39m\u001b[38;5;124mupcast_attention\u001b[39m\u001b[38;5;124m\"\u001b[39m, \u001b[38;5;28;01mNone\u001b[39;00m)\n\u001b[1;32m---> 61\u001b[0m     unet_components \u001b[38;5;241m=\u001b[39m \u001b[43mcreate_diffusers_unet_model_from_ldm\u001b[49m\u001b[43m(\u001b[49m\n\u001b[0;32m     62\u001b[0m \u001b[43m        \u001b[49m\u001b[43mpipeline_class_name\u001b[49m\u001b[43m,\u001b[49m\n\u001b[0;32m     63\u001b[0m \u001b[43m        \u001b[49m\u001b[43moriginal_config\u001b[49m\u001b[43m,\u001b[49m\n\u001b[0;32m     64\u001b[0m \u001b[43m        \u001b[49m\u001b[43mcheckpoint\u001b[49m\u001b[43m,\u001b[49m\n\u001b[0;32m     65\u001b[0m \u001b[43m        \u001b[49m\u001b[43mnum_in_channels\u001b[49m\u001b[38;5;241;43m=\u001b[39;49m\u001b[43mnum_in_channels\u001b[49m\u001b[43m,\u001b[49m\n\u001b[0;32m     66\u001b[0m \u001b[43m        \u001b[49m\u001b[43mimage_size\u001b[49m\u001b[38;5;241;43m=\u001b[39;49m\u001b[43mimage_size\u001b[49m\u001b[43m,\u001b[49m\n\u001b[0;32m     67\u001b[0m \u001b[43m        \u001b[49m\u001b[43mtorch_dtype\u001b[49m\u001b[38;5;241;43m=\u001b[39;49m\u001b[43mtorch_dtype\u001b[49m\u001b[43m,\u001b[49m\n\u001b[0;32m     68\u001b[0m \u001b[43m        \u001b[49m\u001b[43mmodel_type\u001b[49m\u001b[38;5;241;43m=\u001b[39;49m\u001b[43mmodel_type\u001b[49m\u001b[43m,\u001b[49m\n\u001b[0;32m     69\u001b[0m \u001b[43m        \u001b[49m\u001b[43mupcast_attention\u001b[49m\u001b[38;5;241;43m=\u001b[39;49m\u001b[43mupcast_attention\u001b[49m\u001b[43m,\u001b[49m\n\u001b[0;32m     70\u001b[0m \u001b[43m    \u001b[49m\u001b[43m)\u001b[49m\n\u001b[0;32m     71\u001b[0m     \u001b[38;5;28;01mreturn\u001b[39;00m unet_components\n\u001b[0;32m     73\u001b[0m \u001b[38;5;28;01mif\u001b[39;00m component_name \u001b[38;5;241m==\u001b[39m \u001b[38;5;124m\"\u001b[39m\u001b[38;5;124mvae\u001b[39m\u001b[38;5;124m\"\u001b[39m:\n",
      "File \u001b[1;32m~\\Desktop\\workspace\\001_현대자동차\\03_diffusion\\diffusers\\src\\diffusers\\loaders\\single_file_utils.py:1309\u001b[0m, in \u001b[0;36mcreate_diffusers_unet_model_from_ldm\u001b[1;34m(pipeline_class_name, original_config, checkpoint, num_in_channels, upcast_attention, extract_ema, image_size, torch_dtype, model_type)\u001b[0m\n\u001b[0;32m   1306\u001b[0m \u001b[38;5;28;01mif\u001b[39;00m upcast_attention \u001b[38;5;129;01mis\u001b[39;00m \u001b[38;5;129;01mnot\u001b[39;00m \u001b[38;5;28;01mNone\u001b[39;00m:\n\u001b[0;32m   1307\u001b[0m     unet_config[\u001b[38;5;124m\"\u001b[39m\u001b[38;5;124mupcast_attention\u001b[39m\u001b[38;5;124m\"\u001b[39m] \u001b[38;5;241m=\u001b[39m upcast_attention\n\u001b[1;32m-> 1309\u001b[0m diffusers_format_unet_checkpoint \u001b[38;5;241m=\u001b[39m \u001b[43mconvert_ldm_unet_checkpoint\u001b[49m\u001b[43m(\u001b[49m\u001b[43mcheckpoint\u001b[49m\u001b[43m,\u001b[49m\u001b[43m \u001b[49m\u001b[43munet_config\u001b[49m\u001b[43m,\u001b[49m\u001b[43m \u001b[49m\u001b[43mextract_ema\u001b[49m\u001b[38;5;241;43m=\u001b[39;49m\u001b[43mextract_ema\u001b[49m\u001b[43m)\u001b[49m\n\u001b[0;32m   1310\u001b[0m ctx \u001b[38;5;241m=\u001b[39m init_empty_weights \u001b[38;5;28;01mif\u001b[39;00m is_accelerate_available() \u001b[38;5;28;01melse\u001b[39;00m nullcontext\n\u001b[0;32m   1312\u001b[0m \u001b[38;5;28;01mwith\u001b[39;00m ctx():\n",
      "File \u001b[1;32m~\\Desktop\\workspace\\001_현대자동차\\03_diffusion\\diffusers\\src\\diffusers\\loaders\\single_file_utils.py:778\u001b[0m, in \u001b[0;36mconvert_ldm_unet_checkpoint\u001b[1;34m(checkpoint, config, extract_ema)\u001b[0m\n\u001b[0;32m    770\u001b[0m         update_unet_attention_ldm_to_diffusers(\n\u001b[0;32m    771\u001b[0m             attentions,\n\u001b[0;32m    772\u001b[0m             new_checkpoint,\n\u001b[0;32m    773\u001b[0m             unet_state_dict,\n\u001b[0;32m    774\u001b[0m             {\u001b[38;5;124m\"\u001b[39m\u001b[38;5;124mold\u001b[39m\u001b[38;5;124m\"\u001b[39m: \u001b[38;5;124mf\u001b[39m\u001b[38;5;124m\"\u001b[39m\u001b[38;5;124minput_blocks.\u001b[39m\u001b[38;5;132;01m{\u001b[39;00mi\u001b[38;5;132;01m}\u001b[39;00m\u001b[38;5;124m.1\u001b[39m\u001b[38;5;124m\"\u001b[39m, \u001b[38;5;124m\"\u001b[39m\u001b[38;5;124mnew\u001b[39m\u001b[38;5;124m\"\u001b[39m: \u001b[38;5;124mf\u001b[39m\u001b[38;5;124m\"\u001b[39m\u001b[38;5;124mdown_blocks.\u001b[39m\u001b[38;5;132;01m{\u001b[39;00mblock_id\u001b[38;5;132;01m}\u001b[39;00m\u001b[38;5;124m.attentions.\u001b[39m\u001b[38;5;132;01m{\u001b[39;00mlayer_in_block_id\u001b[38;5;132;01m}\u001b[39;00m\u001b[38;5;124m\"\u001b[39m},\n\u001b[0;32m    775\u001b[0m         )\n\u001b[0;32m    777\u001b[0m \u001b[38;5;66;03m# Mid blocks\u001b[39;00m\n\u001b[1;32m--> 778\u001b[0m resnet_0 \u001b[38;5;241m=\u001b[39m \u001b[43mmiddle_blocks\u001b[49m\u001b[43m[\u001b[49m\u001b[38;5;241;43m0\u001b[39;49m\u001b[43m]\u001b[49m\n\u001b[0;32m    779\u001b[0m attentions \u001b[38;5;241m=\u001b[39m middle_blocks[\u001b[38;5;241m1\u001b[39m]\n\u001b[0;32m    780\u001b[0m resnet_1 \u001b[38;5;241m=\u001b[39m middle_blocks[\u001b[38;5;241m2\u001b[39m]\n",
      "\u001b[1;31mKeyError\u001b[0m: 0"
     ]
    }
   ],
   "source": [
    "from diffusers import DiffusionPipeline, DDPMScheduler, StableDiffusionPipeline\n",
    "output_dir = \"ddpm-RC-49-128_03\"\n",
    "\n",
    "scheduler = DDPMScheduler.from_pretrained(output_dir, subfolder=\"scheduler\")\n",
    "stable_diffusion = DiffusionPipeline.from_pretrained(output_dir, scheduler=scheduler, use_safetensors=True)\n",
    "\n",
    "# file_path = os.path.join(output_dir, \"unet\", \"diffusion_pytorch_model.safetensors\")\n",
    "# pipeline = StableDiffusionPipeline.from_single_file(file_path)"
   ]
  },
  {
   "cell_type": "code",
   "execution_count": 9,
   "id": "025ace90-3634-4342-990f-d31eadb1c718",
   "metadata": {},
   "outputs": [
    {
     "data": {
      "text/plain": [
       "ConditionalDDPMPipeline {\n",
       "  \"_class_name\": \"ConditionalDDPMPipeline\",\n",
       "  \"_diffusers_version\": \"0.28.0.dev0\",\n",
       "  \"_name_or_path\": \"ddpm-RC-49-128_03\",\n",
       "  \"scheduler\": [\n",
       "    \"diffusers\",\n",
       "    \"DDPMScheduler\"\n",
       "  ],\n",
       "  \"unet\": [\n",
       "    \"diffusers\",\n",
       "    \"UNet2DModel\"\n",
       "  ]\n",
       "}"
      ]
     },
     "execution_count": 9,
     "metadata": {},
     "output_type": "execute_result"
    }
   ],
   "source": [
    "stable_diffusion"
   ]
  },
  {
   "cell_type": "code",
   "execution_count": 13,
   "id": "f3f9f7cd-6288-481d-9668-984a7a74c283",
   "metadata": {},
   "outputs": [],
   "source": [
    "angle_max = 90.0\n",
    "\n",
    "def make_condition(angle, ratio, device):\n",
    "    condition = torch.Tensor([angle / angle_max, ratio]).to(device)\n",
    "    return condition"
   ]
  },
  {
   "cell_type": "code",
   "execution_count": 40,
   "id": "5e24589a-bae6-4e55-a07d-c5ade7a23229",
   "metadata": {},
   "outputs": [
    {
     "data": {
      "application/vnd.jupyter.widget-view+json": {
       "model_id": "3dfc65d3c16d44788127b47c61174b0f",
       "version_major": 2,
       "version_minor": 0
      },
      "text/plain": [
       "  0%|          | 0/1000 [00:00<?, ?it/s]"
      ]
     },
     "metadata": {},
     "output_type": "display_data"
    }
   ],
   "source": [
    "import torch\n",
    "\n",
    "angle = 30.0\n",
    "ratio = 0.5\n",
    "device = \"cuda\"\n",
    "stable_diffusion.to(device)\n",
    "condition = make_condition(angle, ratio, device)\n",
    "images = stable_diffusion(\n",
    "    batch_size=9,\n",
    "    generator=torch.manual_seed(0),\n",
    "    condition=condition\n",
    "    ).images"
   ]
  },
  {
   "cell_type": "code",
   "execution_count": 41,
   "id": "98d92f02-8369-4193-9f96-058e36a557fe",
   "metadata": {},
   "outputs": [],
   "source": [
    "from diffusers.utils import make_image_grid\n",
    "import datetime\n",
    "\n",
    "image_grid = make_image_grid(images, rows=3, cols=3)\n",
    "\n",
    "# Save the images\n",
    "test_dir = os.path.join(output_dir, \"inference\")\n",
    "os.makedirs(test_dir, exist_ok=True)\n",
    "\n",
    "now = datetime.datetime.now().strftime(\"%Y%m%d_%H%M%S\")\n",
    "image_grid.save(f\"{test_dir}/{now}_{angle}_{ratio}.png\")"
   ]
  },
  {
   "cell_type": "code",
   "execution_count": null,
   "id": "bf7ba5ce-d014-49f2-b6b4-76795e4e3d56",
   "metadata": {},
   "outputs": [],
   "source": []
  }
 ],
 "metadata": {
  "kernelspec": {
   "display_name": "Python 3 (ipykernel)",
   "language": "python",
   "name": "python3"
  },
  "language_info": {
   "codemirror_mode": {
    "name": "ipython",
    "version": 3
   },
   "file_extension": ".py",
   "mimetype": "text/x-python",
   "name": "python",
   "nbconvert_exporter": "python",
   "pygments_lexer": "ipython3",
   "version": "3.12.2"
  }
 },
 "nbformat": 4,
 "nbformat_minor": 5
}
